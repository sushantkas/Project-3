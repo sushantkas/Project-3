{
 "cells": [
  {
   "cell_type": "code",
   "execution_count": 2,
   "id": "a91fe47d",
   "metadata": {},
   "outputs": [],
   "source": [
    "import pandas as pd\n",
    "import importlib\n",
    "import amazonprocessing\n",
    "importlib.reload(amazonprocessing)\n",
    "import mlflow\n",
    "import pickle"
   ]
  },
  {
   "cell_type": "code",
   "execution_count": 3,
   "id": "dcda6539",
   "metadata": {},
   "outputs": [],
   "source": [
    "with open(r\"categorical_encoder.pkl\", \"rb\") as e:\n",
    "    categorical_encoder=pickle.load(e)"
   ]
  },
  {
   "cell_type": "code",
   "execution_count": 4,
   "id": "deaaa9c4",
   "metadata": {},
   "outputs": [],
   "source": [
    "weekdays = {\"Monday\": 0,\"Tuesday\": 1,\"Wednesday\": 2,\"Thursday\": 3,\"Friday\": 4,\"Saturday\": 5, \"Sunday\": 6 }"
   ]
  },
  {
   "cell_type": "code",
   "execution_count": 6,
   "id": "6a725e7b",
   "metadata": {},
   "outputs": [
    {
     "data": {
      "text/plain": [
       "1"
      ]
     },
     "execution_count": 6,
     "metadata": {},
     "output_type": "execute_result"
    }
   ],
   "source": [
    "weekdays[\"Tuesday\"]"
   ]
  },
  {
   "cell_type": "code",
   "execution_count": null,
   "id": "fe6032a1",
   "metadata": {},
   "outputs": [],
   "source": []
  }
 ],
 "metadata": {
  "kernelspec": {
   "display_name": "amazon",
   "language": "python",
   "name": "python3"
  },
  "language_info": {
   "codemirror_mode": {
    "name": "ipython",
    "version": 3
   },
   "file_extension": ".py",
   "mimetype": "text/x-python",
   "name": "python",
   "nbconvert_exporter": "python",
   "pygments_lexer": "ipython3",
   "version": "3.12.6"
  }
 },
 "nbformat": 4,
 "nbformat_minor": 5
}
